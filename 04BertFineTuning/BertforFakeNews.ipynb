{
  "nbformat": 4,
  "nbformat_minor": 0,
  "metadata": {
    "colab": {
      "provenance": [],
      "authorship_tag": "ABX9TyND0DbpJGv8s9FTLSXzyyTm",
      "include_colab_link": true
    },
    "kernelspec": {
      "name": "python3",
      "display_name": "Python 3"
    },
    "language_info": {
      "name": "python"
    }
  },
  "cells": [
    {
      "cell_type": "markdown",
      "metadata": {
        "id": "view-in-github",
        "colab_type": "text"
      },
      "source": [
        "<a href=\"https://colab.research.google.com/github/syq-tju/Bert/blob/main/BertforFakeNews.ipynb\" target=\"_parent\"><img src=\"https://colab.research.google.com/assets/colab-badge.svg\" alt=\"Open In Colab\"/></a>"
      ]
    },
    {
      "cell_type": "code",
      "execution_count": null,
      "metadata": {
        "id": "XHF8JIgmegWW"
      },
      "outputs": [],
      "source": [
        "from transformers import BertTokenizer, BertForSequenceClassification\n",
        "from torch.nn.functional import softmax\n",
        "import torch\n",
        "\n",
        "# 加载预训练模型和分词器，假设模型已经在假新闻检测数据集上进行了微调\n",
        "model_name = 'bert-base-uncased-fakenews'  # 这是一个假定的模型名称，你需要用实际的模型路径替代\n",
        "tokenizer = BertTokenizer.from_pretrained(model_name)\n",
        "model = BertForSequenceClassification.from_pretrained(model_name)\n",
        "\n",
        "# 示例推特消息\n",
        "tweet = \"Breaking News: Scientists discovered a herb that can cure COVID-19. #COVID19 #cure\"\n",
        "\n",
        "# 编码推特消息\n",
        "inputs = tokenizer(tweet, return_tensors=\"pt\", max_length=512, truncation=True, padding=True)\n",
        "\n",
        "# 使用模型进行预测\n",
        "with torch.no_grad():\n",
        "    outputs = model(**inputs)\n",
        "    predictions = softmax(outputs.logits, dim=1)\n",
        "\n",
        "# 检测结果\n",
        "is_fake = predictions[0][0] > 0.5\n",
        "print(f\"Tweet: {tweet}\")\n",
        "print(f\"Predicted as Fake News: {'Yes' if is_fake else 'No'}\")\n",
        "print(f\"Confidence: {predictions[0][0] if is_fake else predictions[0][1]:.4f}\")\n"
      ]
    },
    {
      "cell_type": "code",
      "source": [
        "import requests\n",
        "from bs4 import BeautifulSoup\n",
        "from transformers import BertTokenizer, BertForSequenceClassification\n",
        "from torch.nn.functional import softmax\n",
        "import torch\n",
        "\n",
        "# 加载预训练模型和分词器\n",
        "model_name = 'bert-base-uncased-fakenews'  # 替换为你的模型\n",
        "tokenizer = BertTokenizer.from_pretrained(model_name)\n",
        "model = BertForSequenceClassification.from_pretrained(model_name)\n",
        "\n",
        "# 推特链接\n",
        "tweet_url = \"https://x.com/elonmusk/status/1792778957529710727\"\n",
        "\n",
        "# 抓取推特文本\n",
        "response = requests.get(tweet_url)\n",
        "soup = BeautifulSoup(response.text, 'html.parser')\n",
        "\n",
        "# 假设推特文本在一个具有特定类名的HTML元素中\n",
        "# 这里需要根据实际页面结构进行调整\n",
        "tweet_text = soup.find('p', class_='tweet-text').get_text() if soup.find('p', class_='tweet-text') else \"No text found\"\n",
        "\n",
        "# 编码推特消息\n",
        "inputs = tokenizer(tweet_text, return_tensors=\"pt\", max_length=512, truncation=True, padding=True)\n",
        "\n",
        "# 使用模型进行预测\n",
        "with torch.no_grad():\n",
        "    outputs = model(**inputs)\n",
        "    predictions = softmax(outputs.logits, dim=1)\n",
        "\n",
        "# 检测结果\n",
        "is_fake = predictions[0][0] > 0.5\n",
        "print(f\"Tweet: {tweet_text}\")\n",
        "print(f\"Predicted as Fake News: {'Yes' if is_fake else 'No'}\")\n",
        "print(f\"Confidence: {predictions[0][0] if is_fake else predictions[0][1]:.4f}\")\n"
      ],
      "metadata": {
        "id": "_wVV8l73hLzy"
      },
      "execution_count": null,
      "outputs": []
    }
  ]
}